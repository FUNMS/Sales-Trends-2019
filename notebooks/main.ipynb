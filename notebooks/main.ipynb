{
 "cells": [
  {
   "cell_type": "markdown",
   "metadata": {},
   "source": [
    "## **Maximizing Revenue with Data: 2019 Sales Trends and Product Performance**"
   ]
  },
  {
   "cell_type": "markdown",
   "metadata": {},
   "source": [
    "### **Business Understanding**"
   ]
  },
  {
   "cell_type": "markdown",
   "metadata": {},
   "source": [
    "#### **Problem Satement**\n",
    "\n",
    "A client assigned by getINNOtized, has collected transactional data for the year 2019 but hasn't been able to effectively use this data to improve sales or operational efficiency. They need insights into sales performance, seasonal trends, product popularity, and city-level sales to help drive more sales and streamline operations.\n",
    "\n",
    "#### **Goal and Objectives**\n",
    "\n",
    "The main goal is to deliver a comprehensive business intelligence (BI) solution that helps the client:\n",
    "\n",
    "- Identify trends and seasonality in sales.\n",
    "- Analyze product performance to discover best- and worst-selling items.\n",
    "- Compare sales across different time periods (monthly, weekly) for actionable insights.\n",
    "- Analyze geographical sales performance to identify cities with higher demand.\n",
    "- Segment products based on price and analyze their contribution to total sales.\n",
    "\n",
    "\n",
    "#### **Stakeholders**\n",
    "- Primary Stakeholders: Management team looking for sales and operational insights.\n",
    "- Secondary Stakeholders: Sales and marketing teams who can use the insights for future campaigns.\n",
    "- Analysts: Those responsible for deriving and communicating actionable insights.\n",
    "- Operations Team: Can leverage insights for improving efficiency in delivering products to high-demand areas.\n",
    "\n",
    "#### **Key Metrics and Success**\n",
    "- Total Sales Revenue: Monthly and yearly revenue.\n",
    "- Seasonality Metrics: Monthly/quarterly sales trends.\n",
    "- Product Performance: Revenue and quantity sold by product.\n",
    "- Geographic Metrics: Sales distribution by city.\n",
    "- Product Category Performance: Revenue and quantity sold by product category (high-level vs. basic).\n",
    "- Operational Efficiency: Timeliness of reporting, ease of extracting actionable insights, and ability to identify growth   opportunities\n",
    "\n",
    "#### **Hypotheses**\n",
    "Null Hypothesis (H0): There is no significant seasonality in sales across the year.\n",
    "\n",
    "Alternate Hypothesis (H1): There is significant seasonality in sales, with certain months showing higher or lower sales trends\n",
    "\n",
    "#### **Analytical Questions**\n",
    "1. How much money did we make this year? \n",
    "\n",
    "2. Can we identify any seasonality in the sales? \n",
    "\n",
    "3. What are our best and worst-selling products? \n",
    "\n",
    "4. How do sales compare to previous months or weeks? \n",
    "\n",
    "5. Which cities are our products delivered to most? \n",
    "\n",
    "6. How do product categories compare in revenue generated and quantities ordered? \n",
    "\n",
    "#### **Scope and Constraints**\n",
    "Scope:\n",
    "- Analysis will focus on the sales data for 2019, broken down by months, weeks, and product categories.\n",
    "- Sales data for January to June will be extracted from CSV files, and data for July to December will be pulled from the database.\n",
    "- The analysis will also involve comparison between high-level and basic products based on unit price thresholds.\n",
    "\n",
    "Constraints:\n",
    "- Data integration: Combining two different data sources (CSV and database).\n",
    "- Time constraints for accessing, cleaning, and preparing the data.\n",
    "- Potential inconsistencies in data formatting between the first and second halves of the year.\n",
    "\n",
    "\n",
    "#### **Extra Information**\n",
    "- The products with a unit price greater than $99.99 will be categorized as high-level products, and those below or equal to $99.99 will be considered basic products. This categorization will be critical for revenue comparisons across product types.\n",
    "- To answer the questions efficiently, a blend of SQL for database querying and Python/Excel for data analysis and visualization will be required.\n",
    "- This project must be completed in two weeks \n",
    "\n",
    "\n",
    "\n",
    "\n"
   ]
  },
  {
   "cell_type": "markdown",
   "metadata": {},
   "source": [
    "### **Data Understanding**"
   ]
  },
  {
   "cell_type": "code",
   "execution_count": 3,
   "metadata": {},
   "outputs": [],
   "source": [
    "# **Importation of libraries**\n",
    " #Data manipulation and analysis\n",
    "import pandas as pd\n",
    "import numpy as np\n",
    "\n",
    "# Managing environment variables\n",
    "#from dotenv import dotenv_values\n",
    "\n",
    "\n",
    "import warnings\n",
    "\n",
    "warnings.filterwarnings('ignore')\n",
    " \n",
    "# Database connectivity\n",
    "import pyodbc\n",
    " \n",
    "# Database ORM\n",
    "from sqlalchemy import create_engine\n",
    " \n",
    "# Data visualization\n",
    "import matplotlib.pyplot as plt\n",
    "import seaborn as sns\n",
    " \n",
    "\n",
    "# Machine learning \n",
    "from sklearn.model_selection import train_test_split\n",
    "from sklearn.preprocessing import StandardScaler\n",
    "from sklearn.linear_model import LogisticRegression\n",
    "from sklearn.metrics import classification_report, confusion_matrix\n",
    "from sklearn.preprocessing import LabelEncoder\n",
    "from sklearn.neighbors import KNeighborsClassifier\n",
    "from sklearn.tree import DecisionTreeClassifier\n",
    "from sklearn.metrics import classification_report, confusion_matrix\n",
    "from sklearn.ensemble import RandomForestClassifier\n",
    "from sklearn.preprocessing import OneHotEncoder\n",
    "from sklearn.preprocessing import OrdinalEncoder \n",
    "from sklearn.pipeline import Pipeline\n",
    "from sklearn.compose import ColumnTransformer\n",
    "from sklearn.impute import SimpleImputer\n",
    "from sklearn.preprocessing import RobustScaler\n",
    "from sklearn.preprocessing import MinMaxScaler\n",
    "from sklearn.preprocessing import MaxAbsScaler\n",
    "from sklearn.preprocessing import PowerTransformer\n",
    "from sklearn.svm import SVC\n",
    "from sklearn.model_selection import GridSearchCV\n"
   ]
  },
  {
   "cell_type": "markdown",
   "metadata": {},
   "source": [
    "### **Data Preparation**"
   ]
  },
  {
   "cell_type": "markdown",
   "metadata": {},
   "source": [
    "### **Modelling and Evaluation**"
   ]
  },
  {
   "cell_type": "markdown",
   "metadata": {},
   "source": [
    "### **Deployment**"
   ]
  }
 ],
 "metadata": {
  "kernelspec": {
   "display_name": "virtual",
   "language": "python",
   "name": "python3"
  },
  "language_info": {
   "codemirror_mode": {
    "name": "ipython",
    "version": 3
   },
   "file_extension": ".py",
   "mimetype": "text/x-python",
   "name": "python",
   "nbconvert_exporter": "python",
   "pygments_lexer": "ipython3",
   "version": "3.12.6"
  }
 },
 "nbformat": 4,
 "nbformat_minor": 2
}
