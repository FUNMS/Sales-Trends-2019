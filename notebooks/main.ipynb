{
 "cells": [
  {
   "cell_type": "markdown",
   "metadata": {},
   "source": [
    "## **Maximizing Revenue with Data: 2019 Sales Trends and Product Performance**"
   ]
  },
  {
   "cell_type": "markdown",
   "metadata": {},
   "source": [
    "### **Business Understanding**"
   ]
  },
  {
   "cell_type": "markdown",
   "metadata": {},
   "source": [
    "#### **Problem Satement**\n",
    "\n",
    "A client assigned by getINNOtized, has collected transactional data for the year 2019 but hasn't been able to effectively use this data to improve sales or operational efficiency. They need insights into sales performance, seasonal trends, product popularity, and city-level sales to help drive more sales and streamline operations.\n",
    "\n",
    "#### **Goal and Objectives**\n",
    "\n",
    "The main goal is to deliver a comprehensive business intelligence (BI) solution that helps the client:\n",
    "\n",
    "- Identify trends and seasonality in sales.\n",
    "- Analyze product performance to discover best- and worst-selling items.\n",
    "- Compare sales across different time periods (monthly, weekly) for actionable insights.\n",
    "- Analyze geographical sales performance to identify cities with higher demand.\n",
    "- Segment products based on price and analyze their contribution to total sales.\n",
    "\n",
    "\n",
    "#### **Stakeholders**\n",
    "- Primary Stakeholders: Management team looking for sales and operational insights.\n",
    "- Secondary Stakeholders: Sales and marketing teams who can use the insights for future campaigns.\n",
    "- Analysts: Those responsible for deriving and communicating actionable insights.\n",
    "- Operations Team: Can leverage insights for improving efficiency in delivering products to high-demand areas.\n",
    "\n",
    "#### **Key Metrics and Success**\n",
    "- Total Sales Revenue: Monthly and yearly revenue.\n",
    "- Seasonality Metrics: Monthly/quarterly sales trends.\n",
    "- Product Performance: Revenue and quantity sold by product.\n",
    "- Geographic Metrics: Sales distribution by city.\n",
    "- Product Category Performance: Revenue and quantity sold by product category (high-level vs. basic).\n",
    "- Operational Efficiency: Timeliness of reporting, ease of extracting actionable insights, and ability to identify growth   opportunities\n",
    "\n",
    "#### **Hypotheses**\n",
    "Null Hypothesis (H0): There is no significant seasonality in sales across the year.\n",
    "\n",
    "Alternate Hypothesis (H1): There is significant seasonality in sales, with certain months showing higher or lower sales trends\n",
    "\n",
    "\n",
    "\n",
    "#### **Methodology** \n",
    "The project follows the CRISP-DM (Cross Industry Standard Process for Data Mining) methodology, structured as: \n",
    "- Business Understanding: Define objectives and requirements from the client to drive sales and improve efficiency\n",
    "- Data Understanding: Collect and explore the dataset, which includes sales data for 2019 across various columns\n",
    "- Data Preparation: Clean and transform the data, integrating sources from CSV files and a remote database\n",
    "- Modelling: Apply appropriate data analysis techniques to uncover insights.\n",
    "- Evaluation: Assess the results against business objectives to ensure they meet the client’s needs\n",
    "- Deployment: Develop and deploy a Power BI dashboard to visualize the insights\n",
    "\n",
    "#### **Analytical Questions**\n",
    "1. How much money did we make this year? \n",
    "\n",
    "2. Can we identify any seasonality in the sales? \n",
    "\n",
    "3. What are our best and worst-selling products? \n",
    "\n",
    "4. How do sales compare to previous months or weeks? \n",
    "\n",
    "5. Which cities are our products delivered to most? \n",
    "\n",
    "6. How do product categories compare in revenue generated and quantities ordered? \n",
    "\n",
    "#### **Scope and Constraints**\n",
    "Scope:\n",
    "- Analysis will focus on the sales data for 2019, broken down by months, weeks, and product categories.\n",
    "- Sales data for January to June will be extracted from CSV files, and data for July to December will be pulled from the database.\n",
    "- The analysis will also involve comparison between high-level and basic products based on unit price thresholds.\n",
    "\n",
    "Constraints:\n",
    "- Data integration: Combining two different data sources (CSV and database).\n",
    "- Time constraints for accessing, cleaning, and preparing the data.\n",
    "- Potential inconsistencies in data formatting between the first and second halves of the year.\n",
    "\n",
    "\n",
    "#### **Extra Information**\n",
    "- The products with a unit price greater than $99.99 will be categorized as high-level products, and those below or equal to $99.99 will be considered basic products. This categorization will be critical for revenue comparisons across product types.\n",
    "- To answer the questions efficiently, a blend of SQL for database querying and Python/Excel for data analysis and visualization will be required.\n",
    "- This project must be completed in two weeks \n",
    "\n",
    "\n",
    "\n",
    "\n"
   ]
  },
  {
   "cell_type": "markdown",
   "metadata": {},
   "source": [
    "### **Data Understanding**"
   ]
  },
  {
   "cell_type": "markdown",
   "metadata": {},
   "source": [
    "#### **Importation of libraries**"
   ]
  },
  {
   "cell_type": "code",
   "execution_count": 1,
   "metadata": {},
   "outputs": [],
   "source": [
    "#Data manipulation and analysis\n",
    "import pandas as pd\n",
    "import numpy as np\n",
    "from dotenv import dotenv_values\n",
    "import os\n",
    "\n",
    "# Managing environment variables\n",
    "#from dotenv import dotenv_values\n",
    "\n",
    "\n",
    "import warnings\n",
    "\n",
    "warnings.filterwarnings('ignore')\n",
    " \n",
    "# Database connectivity\n",
    "import pyodbc\n",
    " \n",
    "# Database ORM\n",
    "from sqlalchemy import create_engine\n",
    " \n",
    "# Data visualization\n",
    "import matplotlib.pyplot as plt\n",
    "import seaborn as sns\n",
    " \n",
    "\n",
    "# Machine learning \n",
    "from sklearn.model_selection import train_test_split\n",
    "from sklearn.preprocessing import StandardScaler\n",
    "from sklearn.linear_model import LogisticRegression\n",
    "from sklearn.metrics import classification_report, confusion_matrix\n",
    "from sklearn.preprocessing import LabelEncoder\n",
    "from sklearn.neighbors import KNeighborsClassifier\n",
    "from sklearn.tree import DecisionTreeClassifier\n",
    "from sklearn.metrics import classification_report, confusion_matrix\n",
    "from sklearn.ensemble import RandomForestClassifier\n",
    "from sklearn.preprocessing import OneHotEncoder\n",
    "from sklearn.preprocessing import OrdinalEncoder \n",
    "from sklearn.pipeline import Pipeline\n",
    "from sklearn.compose import ColumnTransformer\n",
    "from sklearn.impute import SimpleImputer\n",
    "from sklearn.preprocessing import RobustScaler\n",
    "from sklearn.preprocessing import MinMaxScaler\n",
    "from sklearn.preprocessing import MaxAbsScaler\n",
    "from sklearn.preprocessing import PowerTransformer\n",
    "from sklearn.svm import SVC\n",
    "from sklearn.model_selection import GridSearchCV\n"
   ]
  },
  {
   "cell_type": "markdown",
   "metadata": {},
   "source": [
    "#### **Data Loading**"
   ]
  },
  {
   "cell_type": "code",
   "execution_count": 2,
   "metadata": {},
   "outputs": [
    {
     "name": "stdout",
     "output_type": "stream",
     "text": [
      "Head of January Data:\n",
      "  Order ID                   Product Quantity Ordered Price Each  \\\n",
      "0   141234                    iPhone                1        700   \n",
      "1   141235  Lightning Charging Cable                1      14.95   \n",
      "2   141236          Wired Headphones                2      11.99   \n",
      "3   141237          27in FHD Monitor                1     149.99   \n",
      "4   141238          Wired Headphones                1      11.99   \n",
      "\n",
      "       Order Date                       Purchase Address  \n",
      "0  01/22/19 21:25        944 Walnut St, Boston, MA 02215  \n",
      "1  01/28/19 14:15       185 Maple St, Portland, OR 97035  \n",
      "2  01/17/19 13:33  538 Adams St, San Francisco, CA 94016  \n",
      "3  01/05/19 20:33     738 10th St, Los Angeles, CA 90001  \n",
      "4  01/25/19 11:59          387 10th St, Austin, TX 73301  \n",
      "\n",
      "\n",
      "Head of February Data:\n",
      "  Order ID                   Product Quantity Ordered Price Each  \\\n",
      "0   150502                    iPhone                1        700   \n",
      "1   150503     AA Batteries (4-pack)                1       3.84   \n",
      "2   150504    27in 4K Gaming Monitor                1     389.99   \n",
      "3   150505  Lightning Charging Cable                1      14.95   \n",
      "4   150506     AA Batteries (4-pack)                2       3.84   \n",
      "\n",
      "       Order Date                     Purchase Address  \n",
      "0  02/18/19 01:35    866 Spruce St, Portland, ME 04101  \n",
      "1  02/13/19 07:24  18 13th St, San Francisco, CA 94016  \n",
      "2  02/18/19 09:46   52 6th St, New York City, NY 10001  \n",
      "3  02/02/19 16:47     129 Cherry St, Atlanta, GA 30301  \n",
      "4  02/28/19 20:32    548 Lincoln St, Seattle, WA 98101  \n",
      "\n",
      "\n",
      "Head of March Data:\n",
      "  Order ID                     Product Quantity Ordered Price Each  \\\n",
      "0   162009                      iPhone                1        700   \n",
      "1   162009    Lightning Charging Cable                1      14.95   \n",
      "2   162009            Wired Headphones                2      11.99   \n",
      "3   162010  Bose SoundSport Headphones                1      99.99   \n",
      "4   162011      34in Ultrawide Monitor                1     379.99   \n",
      "\n",
      "       Order Date                      Purchase Address  \n",
      "0  03/28/19 20:59       942 Church St, Austin, TX 73301  \n",
      "1  03/28/19 20:59       942 Church St, Austin, TX 73301  \n",
      "2  03/28/19 20:59       942 Church St, Austin, TX 73301  \n",
      "3  03/17/19 05:39  261 10th St, San Francisco, CA 94016  \n",
      "4  03/10/19 00:01  764 13th St, San Francisco, CA 94016  \n",
      "\n",
      "\n",
      "Head of April Data:\n",
      "  Order ID                     Product Quantity Ordered Price Each  \\\n",
      "0   176558        USB-C Charging Cable                2      11.95   \n",
      "1      NaN                         NaN              NaN        NaN   \n",
      "2   176559  Bose SoundSport Headphones                1      99.99   \n",
      "3   176560                Google Phone                1        600   \n",
      "4   176560            Wired Headphones                1      11.99   \n",
      "\n",
      "       Order Date                      Purchase Address  \n",
      "0  04/19/19 08:46          917 1st St, Dallas, TX 75001  \n",
      "1             NaN                                   NaN  \n",
      "2  04/07/19 22:30     682 Chestnut St, Boston, MA 02215  \n",
      "3  04/12/19 14:38  669 Spruce St, Los Angeles, CA 90001  \n",
      "4  04/12/19 14:38  669 Spruce St, Los Angeles, CA 90001  \n",
      "\n",
      "\n",
      "Head of May Data:\n",
      "  Order ID                 Product Quantity Ordered Price Each  \\\n",
      "0   194095        Wired Headphones                1      11.99   \n",
      "1   194096   AA Batteries (4-pack)                1       3.84   \n",
      "2   194097        27in FHD Monitor                1     149.99   \n",
      "3   194098        Wired Headphones                1      11.99   \n",
      "4   194099  AAA Batteries (4-pack)                2       2.99   \n",
      "\n",
      "       Order Date                         Purchase Address  \n",
      "0  05/16/19 17:14      669 2nd St, New York City, NY 10001  \n",
      "1  05/19/19 14:43          844 Walnut St, Dallas, TX 75001  \n",
      "2  05/24/19 11:36  164 Madison St, New York City, NY 10001  \n",
      "3  05/02/19 20:40          622 Meadow St, Dallas, TX 75001  \n",
      "4  05/11/19 22:55          17 Church St, Seattle, WA 98101  \n",
      "\n",
      "\n",
      "Head of June Data:\n",
      "  Order ID                     Product Quantity Ordered Price Each  \\\n",
      "0   209921        USB-C Charging Cable                1      11.95   \n",
      "1   209922          Macbook Pro Laptop                1     1700.0   \n",
      "2   209923             ThinkPad Laptop                1     999.99   \n",
      "3   209924            27in FHD Monitor                1     149.99   \n",
      "4   209925  Bose SoundSport Headphones                1      99.99   \n",
      "\n",
      "       Order Date                       Purchase Address  \n",
      "0  06/23/19 19:34      950 Walnut St, Portland, ME 04101  \n",
      "1  06/30/19 10:05     80 4th St, San Francisco, CA 94016  \n",
      "2  06/24/19 20:18  402 Jackson St, Los Angeles, CA 90001  \n",
      "3  06/05/19 10:21         560 10th St, Seattle, WA 98101  \n",
      "4  06/25/19 18:58    545 2nd St, San Francisco, CA 94016  \n",
      "\n",
      "\n"
     ]
    }
   ],
   "source": [
    "#Loading Data from January to June\n",
    "# List of CSV files (January to June)\n",
    "csv_files = ['Sales_January_2019.csv', 'Sales_February_2019.csv', 'Sales_March_2019.csv', \n",
    "             'Sales_April_2019.csv', 'Sales_May_2019.csv', 'Sales_June_2019.csv']  \n",
    "\n",
    "# Define the folder path\n",
    "folder_path = r'C:\\Users\\USER\\Desktop\\Sales-Trends-2019\\data'  \n",
    "\n",
    "# Initialize an empty list to store DataFrames\n",
    "df_firsthalf = []  # Using a more descriptive variable name\n",
    "\n",
    "# Loop over the CSV files to load each into a DataFrame and append to list\n",
    "for file in csv_files:\n",
    "    # Correctly join the folder path and file name\n",
    "    file_path = os.path.join(folder_path, file)\n",
    "    \n",
    "    # Read the CSV file into a DataFrame\n",
    "    df = pd.read_csv(file_path)\n",
    "    \n",
    "    # Append the DataFrame to the list\n",
    "    df_firsthalf.append(df)\n",
    "    \n",
    "    # Print the head of the DataFrame for each month for verification\n",
    "    print(f\"Head of {file.split('_')[1]} Data:\")\n",
    "    print(df.head())  \n",
    "    print(\"\\n\")  # Add a line break for readability\n",
    "\n",
    "# Now firsthalf_dataframes contains all the DataFrames for January to June\n"
   ]
  },
  {
   "cell_type": "code",
   "execution_count": 3,
   "metadata": {},
   "outputs": [
    {
     "name": "stdout",
     "output_type": "stream",
     "text": [
      "Connection to dapDB successful!\n",
      "Fetching data from Sales_July_2019...\n",
      "   Order_ID                   Product  Quantity_Ordered  Price_Each  \\\n",
      "0  222910.0  Apple Airpods Headphones               1.0      150.00   \n",
      "1  222911.0             Flatscreen TV               1.0      300.00   \n",
      "2  222912.0     AA Batteries (4-pack)               1.0        3.84   \n",
      "3  222913.0     AA Batteries (4-pack)               1.0        3.84   \n",
      "4  222914.0    AAA Batteries (4-pack)               5.0        2.99   \n",
      "\n",
      "           Order_Date                  Purchase_Address  \n",
      "0 2026-07-19 16:51:00   389 South St, Atlanta, GA 30301  \n",
      "1 2005-07-19 08:55:00     590 4th St, Seattle, WA 98101  \n",
      "2 2029-07-19 12:41:00    861 Hill St, Atlanta, GA 30301  \n",
      "3 2028-07-19 10:15:00   190 Ridge St, Atlanta, GA 30301  \n",
      "4 2031-07-19 02:13:00  824 Forest St, Seattle, WA 98101  \n",
      "Data from Sales_July_2019 saved to Sales_July_2019.csv\n",
      "Fetching data from Sales_August_2019...\n",
      "   Order_ID                     Product  Quantity_Ordered  Price_Each  \\\n",
      "0  236670.0            Wired Headphones               2.0   11.990000   \n",
      "1  236671.0  Bose SoundSport Headphones               1.0   99.989998   \n",
      "2  236672.0                      iPhone               1.0  700.000000   \n",
      "3  236673.0       AA Batteries (4-pack)               2.0    3.840000   \n",
      "4  236674.0       AA Batteries (4-pack)               2.0    3.840000   \n",
      "\n",
      "           Order_Date                      Purchase_Address  \n",
      "0 2031-08-19 22:21:00      359 Spruce St, Seattle, WA 98101  \n",
      "1 2015-08-19 15:11:00        492 Ridge St, Dallas, TX 75001  \n",
      "2 2006-08-19 14:40:00        149 7th St, Portland, OR 97035  \n",
      "3 2029-08-19 20:59:00     631 2nd St, Los Angeles, CA 90001  \n",
      "4 2015-08-19 19:53:00  736 14th St, New York City, NY 10001  \n",
      "Data from Sales_August_2019 saved to Sales_August_2019.csv\n",
      "Fetching data from Sales_September_2019...\n",
      "   Order_ID                Product  Quantity_Ordered  Price_Each  \\\n",
      "0  248151.0  AA Batteries (4-pack)               4.0    3.840000   \n",
      "1  248152.0   USB-C Charging Cable               2.0   11.950000   \n",
      "2  248153.0   USB-C Charging Cable               1.0   11.950000   \n",
      "3  248154.0       27in FHD Monitor               1.0  149.990005   \n",
      "4  248155.0   USB-C Charging Cable               1.0   11.950000   \n",
      "\n",
      "           Order_Date                       Purchase_Address  \n",
      "0 2017-09-19 14:44:00    380 North St, Los Angeles, CA 90001  \n",
      "1 2029-09-19 10:19:00           511 8th St, Austin, TX 73301  \n",
      "2 2016-09-19 17:48:00  151 Johnson St, Los Angeles, CA 90001  \n",
      "3 2027-09-19 07:52:00      355 Hickory St, Seattle, WA 98101  \n",
      "4 2001-09-19 19:03:00          125 5th St, Atlanta, GA 30301  \n",
      "Data from Sales_September_2019 saved to Sales_September_2019.csv\n",
      "Fetching data from Sales_October_2019...\n",
      "   Order_ID                 Product  Quantity_Ordered  Price_Each  \\\n",
      "0  259358.0  34in Ultrawide Monitor               1.0  379.989990   \n",
      "1  259359.0  27in 4K Gaming Monitor               1.0  389.989990   \n",
      "2  259360.0  AAA Batteries (4-pack)               2.0    2.990000   \n",
      "3  259361.0        27in FHD Monitor               1.0  149.990005   \n",
      "4  259362.0        Wired Headphones               1.0   11.990000   \n",
      "\n",
      "           Order_Date                           Purchase_Address  \n",
      "0 2028-10-19 10:56:00            609 Cherry St, Dallas, TX 75001  \n",
      "1 2028-10-19 17:26:00          225 5th St, Los Angeles, CA 90001  \n",
      "2 2024-10-19 17:20:00       967 12th St, New York City, NY 10001  \n",
      "3 2014-10-19 22:26:00  628 Jefferson St, New York City, NY 10001  \n",
      "4 2007-10-19 16:10:00         534 14th St, Los Angeles, CA 90001  \n",
      "Data from Sales_October_2019 saved to Sales_October_2019.csv\n",
      "Fetching data from Sales_November_2019...\n",
      "   Order_ID                     Product  Quantity_Ordered  Price_Each  \\\n",
      "0  278797.0            Wired Headphones               1.0   11.990000   \n",
      "1  278798.0        USB-C Charging Cable               2.0   11.950000   \n",
      "2  278799.0    Apple Airpods Headphones               1.0  150.000000   \n",
      "3  278800.0            27in FHD Monitor               1.0  149.990005   \n",
      "4  278801.0  Bose SoundSport Headphones               1.0   99.989998   \n",
      "\n",
      "           Order_Date                      Purchase_Address  \n",
      "0 2021-11-19 09:54:00   46 Park St, New York City, NY 10001  \n",
      "1 2017-11-19 10:03:00      962 Hickory St, Austin, TX 73301  \n",
      "2 2019-11-19 14:56:00  464 Cherry St, Los Angeles, CA 90001  \n",
      "3 2025-11-19 22:24:00        649 10th St, Seattle, WA 98101  \n",
      "4 2009-11-19 13:56:00         522 Hill St, Boston, MA 02215  \n",
      "Data from Sales_November_2019 saved to Sales_November_2019.csv\n",
      "Fetching data from Sales_December_2019...\n",
      "   Order_ID               Product  Quantity_Ordered   Price_Each  \\\n",
      "0  295665.0    Macbook Pro Laptop               1.0  1700.000000   \n",
      "1  295666.0    LG Washing Machine               1.0   600.000000   \n",
      "2  295667.0  USB-C Charging Cable               1.0    11.950000   \n",
      "3  295668.0      27in FHD Monitor               1.0   149.990005   \n",
      "4  295669.0  USB-C Charging Cable               1.0    11.950000   \n",
      "\n",
      "           Order_Date                        Purchase_Address  \n",
      "0 2030-12-19 00:01:00  136 Church St, New York City, NY 10001  \n",
      "1 2029-12-19 07:03:00     562 2nd St, New York City, NY 10001  \n",
      "2 2012-12-19 18:21:00    277 Main St, New York City, NY 10001  \n",
      "3 2022-12-19 15:13:00     410 6th St, San Francisco, CA 94016  \n",
      "4 2018-12-19 12:38:00           43 Hill St, Atlanta, GA 30301  \n",
      "Data from Sales_December_2019 saved to Sales_December_2019.csv\n"
     ]
    }
   ],
   "source": [
    "#Loading Data from July to December \n",
    "\n",
    "# Define the connection string\n",
    "connection_string = (\n",
    "    'DRIVER={ODBC Driver 17 for SQL Server};'\n",
    "    'SERVER=dap-projects-database.database.windows.net;'\n",
    "    'DATABASE=dapDB;'\n",
    "    'UID=capstone;'\n",
    "    'PWD=Z7x@8pM$2w;'\n",
    ")\n",
    "\n",
    "# Connect to the SQL Server database\n",
    "try:\n",
    "    connection = pyodbc.connect(connection_string)\n",
    "    print(\"Connection to dapDB successful!\")\n",
    "except Exception as e:\n",
    "    print(f\"Error connecting to the database: {e}\")\n",
    "    exit()\n",
    "\n",
    "# List of table names \n",
    "secondhalf = ['Sales_July_2019', 'Sales_August_2019', 'Sales_September_2019',\n",
    "          'Sales_October_2019', 'Sales_November_2019', 'Sales_December_2019']\n",
    "\n",
    "# Loop through each table and fetch data\n",
    "for table in secondhalf:\n",
    "    print(f\"Fetching data from {table}...\")\n",
    "    query = f\"SELECT * FROM {table}\"  # SQL query to select all data from the table\n",
    "    \n",
    "    # Fetch the data into a Pandas DataFrame\n",
    "    df = pd.read_sql(query, connection)\n",
    "    \n",
    "    # Display the first few rows (optional)\n",
    "    print(df.head())\n",
    "    \n",
    "    # Save the data to a CSV file (optional)\n",
    "    csv_filename = f\"{table}.csv\"\n",
    "    df.to_csv(csv_filename, index=False)\n",
    "    print(f\"Data from {table} saved to {csv_filename}\")\n",
    "\n",
    "# Close the connection\n",
    "connection.close()\n"
   ]
  },
  {
   "cell_type": "markdown",
   "metadata": {},
   "source": [
    "#### **Insights**\n",
    "- The datasets retrieved from the one drive are placed in the variable firsthalf and the datasets retrieved from the remote database are in the vaaible secondhalf \n",
    "\n",
    "- Column headings accross both datasets are similar but not the same eg. Order ID and Order_ID \n",
    "\n",
    "- Order_Date column for the secondhalf dataset needs thorough cleaning. \n",
    "\n",
    "- There are variety of products which affect significant price range in the data, from items priced as low as $2.99 (batteries) to as high as $1,700 (Macbook Pro Laptop).\n",
    "\n",
    "- Products with unit prices above $99.99 should be labeled high-level products otherwise they should be basic level\n",
    "\n",
    "- Most orders seem to involve single units of high-cost items (e.g., iPhone or Flatscreen TV), but for low-cost items like cables and batteries, customers are purchasing multiple units per order.\n",
    "\n"
   ]
  },
  {
   "cell_type": "markdown",
   "metadata": {},
   "source": [
    "#### **EDA & Data Cleaning**"
   ]
  },
  {
   "cell_type": "code",
   "execution_count": 4,
   "metadata": {},
   "outputs": [
    {
     "name": "stdout",
     "output_type": "stream",
     "text": [
      "  Order ID                   Product Quantity Ordered Price Each  \\\n",
      "0   141234                    iPhone                1        700   \n",
      "1   141235  Lightning Charging Cable                1      14.95   \n",
      "2   141236          Wired Headphones                2      11.99   \n",
      "3   141237          27in FHD Monitor                1     149.99   \n",
      "4   141238          Wired Headphones                1      11.99   \n",
      "\n",
      "       Order Date                       Purchase Address  \n",
      "0  01/22/19 21:25        944 Walnut St, Boston, MA 02215  \n",
      "1  01/28/19 14:15       185 Maple St, Portland, OR 97035  \n",
      "2  01/17/19 13:33  538 Adams St, San Francisco, CA 94016  \n",
      "3  01/05/19 20:33     738 10th St, Los Angeles, CA 90001  \n",
      "4  01/25/19 11:59          387 10th St, Austin, TX 73301  \n"
     ]
    }
   ],
   "source": [
    "# Concatenate all the DataFrames in df_firsthalf\n",
    "firsthalf_combined = pd.concat(df_firsthalf, ignore_index=True)\n",
    "\n",
    "# Verify the concatenated DataFrame\n",
    "print(firsthalf_combined.head())  \n"
   ]
  },
  {
   "cell_type": "code",
   "execution_count": 5,
   "metadata": {},
   "outputs": [
    {
     "name": "stdout",
     "output_type": "stream",
     "text": [
      "Order ID            245\n",
      "Product             245\n",
      "Quantity Ordered    245\n",
      "Price Each          245\n",
      "Order Date          245\n",
      "Purchase Address    245\n",
      "dtype: int64\n"
     ]
    }
   ],
   "source": [
    "# Check for missing values in the first half data\n",
    "print(firsthalf_combined.isnull().sum())\n"
   ]
  },
  {
   "cell_type": "markdown",
   "metadata": {},
   "source": [
    "#### **Insights**\n",
    "\n",
    "- All columns have the same number missing values\n",
    "- Reseach into the cause of missing values \n",
    "- Decide on either imputation or removal to deal with missing values to ensure consistency\n"
   ]
  },
  {
   "cell_type": "code",
   "execution_count": 6,
   "metadata": {},
   "outputs": [
    {
     "data": {
      "text/plain": [
       "<Axes: >"
      ]
     },
     "execution_count": 6,
     "metadata": {},
     "output_type": "execute_result"
    },
    {
     "data": {
      "image/png": "[encoded data removed]",
      "text/plain": [
       "<Figure size 2500x1000 with 2 Axes>"
      ]
     },
     "metadata": {},
     "output_type": "display_data"
    }
   ],
   "source": [
    "import missingno as msno\n",
    "\n",
    "msno.matrix(firsthalf_combined)\n"
   ]
  },
  {
   "cell_type": "code",
   "execution_count": 7,
   "metadata": {},
   "outputs": [
    {
     "name": "stdout",
     "output_type": "stream",
     "text": [
      "      Order ID Product Quantity Ordered Price Each Order Date Purchase Address\n",
      "664        NaN     NaN              NaN        NaN        NaN              NaN\n",
      "678        NaN     NaN              NaN        NaN        NaN              NaN\n",
      "797        NaN     NaN              NaN        NaN        NaN              NaN\n",
      "876        NaN     NaN              NaN        NaN        NaN              NaN\n",
      "1299       NaN     NaN              NaN        NaN        NaN              NaN\n",
      "...        ...     ...              ...        ...        ...              ...\n",
      "84570      NaN     NaN              NaN        NaN        NaN              NaN\n",
      "84643      NaN     NaN              NaN        NaN        NaN              NaN\n",
      "84662      NaN     NaN              NaN        NaN        NaN              NaN\n",
      "84735      NaN     NaN              NaN        NaN        NaN              NaN\n",
      "85355      NaN     NaN              NaN        NaN        NaN              NaN\n",
      "\n",
      "[245 rows x 6 columns]\n"
     ]
    }
   ],
   "source": [
    "# Check if missing values are concentrated in a specific range\n",
    "print(firsthalf_combined[firsthalf_combined['Order Date'].isnull()])\n"
   ]
  },
  {
   "cell_type": "code",
   "execution_count": 8,
   "metadata": {},
   "outputs": [
    {
     "name": "stdout",
     "output_type": "stream",
     "text": [
      "c:\\Users\\USER\\Desktop\\Sales-Trends-2019\\notebooks\n"
     ]
    }
   ],
   "source": [
    "# Visualizing `firsthalf_combined`in Excel\n",
    "firsthalf_combined.to_excel('merged_data.xlsx', index=False)\n",
    "\n",
    "import os\n",
    "print(os.getcwd())\n",
    "\n"
   ]
  },
  {
   "cell_type": "code",
   "execution_count": 14,
   "metadata": {},
   "outputs": [
    {
     "name": "stdout",
     "output_type": "stream",
     "text": [
      "Order ID            0\n",
      "Product             0\n",
      "Quantity Ordered    0\n",
      "Price Each          0\n",
      "Order Date          0\n",
      "Purchase Address    0\n",
      "dtype: int64\n"
     ]
    }
   ],
   "source": [
    "# Drop rows with any missing values and assign the result to a new variable\n",
    "firsthalf_cleaned = firsthalf_combined.dropna(how='any')\n",
    "\n",
    "# Verify no more missing values\n",
    "print(firsthalf_cleaned.isnull().sum())\n"
   ]
  },
  {
   "cell_type": "code",
   "execution_count": 17,
   "metadata": {},
   "outputs": [
    {
     "name": "stdout",
     "output_type": "stream",
     "text": [
      "Duplicate rows:\n",
      "       Order ID                     Product  Quantity Ordered  Price Each  \\\n",
      "875      142071       AA Batteries (4-pack)                 1        3.84   \n",
      "1102   Order ID                     Product  Quantity Ordered  Price Each   \n",
      "1194   Order ID                     Product  Quantity Ordered  Price Each   \n",
      "1897   Order ID                     Product  Quantity Ordered  Price Each   \n",
      "2463   Order ID                     Product  Quantity Ordered  Price Each   \n",
      "...         ...                         ...               ...         ...   \n",
      "82986    220392    Lightning Charging Cable                 1       14.95   \n",
      "83050  Order ID                     Product  Quantity Ordered  Price Each   \n",
      "83490    220882    Lightning Charging Cable                 1       14.95   \n",
      "84359    221711  Bose SoundSport Headphones                 1       99.99   \n",
      "85307  Order ID                     Product  Quantity Ordered  Price Each   \n",
      "\n",
      "           Order Date                      Purchase Address  \n",
      "875    01/17/19 23:02          131 2nd St, Boston, MA 02215  \n",
      "1102       Order Date                      Purchase Address  \n",
      "1194       Order Date                      Purchase Address  \n",
      "1897       Order Date                      Purchase Address  \n",
      "2463       Order Date                      Purchase Address  \n",
      "...               ...                                   ...  \n",
      "82986  06/08/19 17:13        472 8th St, Portland, ME 04101  \n",
      "83050      Order Date                      Purchase Address  \n",
      "83490  06/13/19 17:53         588 Lake St, Boston, MA 02215  \n",
      "84359  06/15/19 16:36  139 West St, New York City, NY 10001  \n",
      "85307      Order Date                      Purchase Address  \n",
      "\n",
      "[267 rows x 6 columns]\n"
     ]
    }
   ],
   "source": [
    "\n",
    "# Check for duplicate rows\n",
    "duplicates = firsthalf_cleaned[firsthalf_cleaned.duplicated()]\n",
    "\n",
    "# Display the duplicate rows\n",
    "print(\"Duplicate rows:\")\n",
    "print(duplicates)\n"
   ]
  },
  {
   "cell_type": "code",
   "execution_count": 18,
   "metadata": {},
   "outputs": [
    {
     "name": "stdout",
     "output_type": "stream",
     "text": [
      "Number of exact duplicates: 376\n",
      "      Order ID                Product  Quantity Ordered  Price Each  \\\n",
      "874     142071  AA Batteries (4-pack)                 1        3.84   \n",
      "875     142071  AA Batteries (4-pack)                 1        3.84   \n",
      "1073  Order ID                Product  Quantity Ordered  Price Each   \n",
      "1102  Order ID                Product  Quantity Ordered  Price Each   \n",
      "1194  Order ID                Product  Quantity Ordered  Price Each   \n",
      "\n",
      "          Order Date              Purchase Address  \n",
      "874   01/17/19 23:02  131 2nd St, Boston, MA 02215  \n",
      "875   01/17/19 23:02  131 2nd St, Boston, MA 02215  \n",
      "1073      Order Date              Purchase Address  \n",
      "1102      Order Date              Purchase Address  \n",
      "1194      Order Date              Purchase Address  \n"
     ]
    }
   ],
   "source": [
    "# Find exact duplicates across all columns\n",
    "exact_duplicates = firsthalf_cleaned[firsthalf_cleaned.duplicated(keep=False)]\n",
    "print(f\"Number of exact duplicates: {len(exact_duplicates)}\")\n",
    "print(exact_duplicates.head())  # Display the first few rows of exact duplicates\n"
   ]
  },
  {
   "cell_type": "code",
   "execution_count": 25,
   "metadata": {},
   "outputs": [
    {
     "name": "stdout",
     "output_type": "stream",
     "text": [
      "Number of 'Order ID' duplicates: 7062\n",
      "    Order ID                   Product  Quantity Ordered  Price Each  \\\n",
      "41    141275      USB-C Charging Cable               1.0       11.95   \n",
      "42    141275          Wired Headphones               1.0       11.99   \n",
      "57    141290  Apple Airpods Headphones               1.0      150.00   \n",
      "58    141290     AA Batteries (4-pack)               3.0        3.84   \n",
      "133   141365           Vareebadd Phone               1.0      400.00   \n",
      "\n",
      "             Order Date                        Purchase Address  \n",
      "41  2019-01-07 16:06:00         610 Walnut St, Austin, TX 73301  \n",
      "42  2019-01-07 16:06:00         610 Walnut St, Austin, TX 73301  \n",
      "57  2019-01-02 08:25:00         4 1st St, Los Angeles, CA 90001  \n",
      "58  2019-01-02 08:25:00         4 1st St, Los Angeles, CA 90001  \n",
      "133 2019-01-10 11:19:00  20 Dogwood St, New York City, NY 10001  \n"
     ]
    }
   ],
   "source": [
    "# Find duplicates based on 'Order ID' only\n",
    "order_id_duplicates = firsthalf_cleaned[firsthalf_cleaned.duplicated(subset='Order ID', keep=False)]\n",
    "print(f\"Number of 'Order ID' duplicates: {len(order_id_duplicates)}\")\n",
    "print(order_id_duplicates.head())  # Display the first few rows of duplicates by Order ID\n"
   ]
  },
  {
   "cell_type": "code",
   "execution_count": 26,
   "metadata": {},
   "outputs": [
    {
     "name": "stdout",
     "output_type": "stream",
     "text": [
      "Number of rows after cleaning: 85113\n"
     ]
    }
   ],
   "source": [
    "# Drop exact duplicates and 'Order ID' duplicates but keep repeat purchases\n",
    "cleaned_data = firsthalf_cleaned.drop_duplicates(keep='first')\n",
    "\n",
    "# Display the cleaned dataset\n",
    "print(f\"Number of rows after cleaning: {len(cleaned_data)}\")\n"
   ]
  },
  {
   "cell_type": "code",
   "execution_count": 22,
   "metadata": {},
   "outputs": [],
   "source": [
    "# Convert 'Order Date' to datetime format\n",
    "firsthalf_cleaned['Order Date'] = pd.to_datetime(firsthalf_cleaned['Order Date'], errors='coerce')\n",
    "\n",
    "# Convert 'Quantity Ordered' and 'Price Each' to numeric\n",
    "firsthalf_cleaned['Quantity Ordered'] = pd.to_numeric(firsthalf_cleaned['Quantity Ordered'], errors='coerce')\n",
    "firsthalf_cleaned['Price Each'] = pd.to_numeric(firsthalf_cleaned['Price Each'], errors='coerce')\n"
   ]
  },
  {
   "cell_type": "code",
   "execution_count": null,
   "metadata": {},
   "outputs": [],
   "source": []
  },
  {
   "cell_type": "markdown",
   "metadata": {},
   "source": [
    "#### **Insights after cleaning**\n",
    "- The team observed that, missing values in the first column were consistent with the missing values in the other four columns. Therefore, all columns were dropped"
   ]
  },
  {
   "cell_type": "code",
   "execution_count": null,
   "metadata": {},
   "outputs": [],
   "source": [
    "# Concatenate all the DataFrames in df_firsthalf\n",
    "firsthalf_combined = pd.concat(df_firsthalf, ignore_index=True)\n",
    "\n",
    "# Verify the concatenated DataFrame\n",
    "print(firsthalf_combined.head())  \n"
   ]
  },
  {
   "cell_type": "code",
   "execution_count": 23,
   "metadata": {},
   "outputs": [
    {
     "ename": "TypeError",
     "evalue": "cannot concatenate object of type '<class 'str'>'; only Series and DataFrame objs are valid",
     "output_type": "error",
     "traceback": [
      "\u001b[1;31m---------------------------------------------------------------------------\u001b[0m",
      "\u001b[1;31mTypeError\u001b[0m                                 Traceback (most recent call last)",
      "Cell \u001b[1;32mIn[23], line 2\u001b[0m\n\u001b[0;32m      1\u001b[0m \u001b[38;5;66;03m#Concatenating all the datasets in secondhalf\u001b[39;00m\n\u001b[1;32m----> 2\u001b[0m secondhalf \u001b[38;5;241m=\u001b[39m \u001b[43mpd\u001b[49m\u001b[38;5;241;43m.\u001b[39;49m\u001b[43mconcat\u001b[49m\u001b[43m(\u001b[49m\u001b[43msecondhalf\u001b[49m\u001b[43m,\u001b[49m\u001b[43m \u001b[49m\u001b[43mignore_index\u001b[49m\u001b[38;5;241;43m=\u001b[39;49m\u001b[38;5;28;43;01mTrue\u001b[39;49;00m\u001b[43m)\u001b[49m\n",
      "File \u001b[1;32mc:\\Users\\USER\\Desktop\\Sales-Trends-2019\\virtual\\Lib\\site-packages\\pandas\\core\\reshape\\concat.py:382\u001b[0m, in \u001b[0;36mconcat\u001b[1;34m(objs, axis, join, ignore_index, keys, levels, names, verify_integrity, sort, copy)\u001b[0m\n\u001b[0;32m    379\u001b[0m \u001b[38;5;28;01melif\u001b[39;00m copy \u001b[38;5;129;01mand\u001b[39;00m using_copy_on_write():\n\u001b[0;32m    380\u001b[0m     copy \u001b[38;5;241m=\u001b[39m \u001b[38;5;28;01mFalse\u001b[39;00m\n\u001b[1;32m--> 382\u001b[0m op \u001b[38;5;241m=\u001b[39m \u001b[43m_Concatenator\u001b[49m\u001b[43m(\u001b[49m\n\u001b[0;32m    383\u001b[0m \u001b[43m    \u001b[49m\u001b[43mobjs\u001b[49m\u001b[43m,\u001b[49m\n\u001b[0;32m    384\u001b[0m \u001b[43m    \u001b[49m\u001b[43maxis\u001b[49m\u001b[38;5;241;43m=\u001b[39;49m\u001b[43maxis\u001b[49m\u001b[43m,\u001b[49m\n\u001b[0;32m    385\u001b[0m \u001b[43m    \u001b[49m\u001b[43mignore_index\u001b[49m\u001b[38;5;241;43m=\u001b[39;49m\u001b[43mignore_index\u001b[49m\u001b[43m,\u001b[49m\n\u001b[0;32m    386\u001b[0m \u001b[43m    \u001b[49m\u001b[43mjoin\u001b[49m\u001b[38;5;241;43m=\u001b[39;49m\u001b[43mjoin\u001b[49m\u001b[43m,\u001b[49m\n\u001b[0;32m    387\u001b[0m \u001b[43m    \u001b[49m\u001b[43mkeys\u001b[49m\u001b[38;5;241;43m=\u001b[39;49m\u001b[43mkeys\u001b[49m\u001b[43m,\u001b[49m\n\u001b[0;32m    388\u001b[0m \u001b[43m    \u001b[49m\u001b[43mlevels\u001b[49m\u001b[38;5;241;43m=\u001b[39;49m\u001b[43mlevels\u001b[49m\u001b[43m,\u001b[49m\n\u001b[0;32m    389\u001b[0m \u001b[43m    \u001b[49m\u001b[43mnames\u001b[49m\u001b[38;5;241;43m=\u001b[39;49m\u001b[43mnames\u001b[49m\u001b[43m,\u001b[49m\n\u001b[0;32m    390\u001b[0m \u001b[43m    \u001b[49m\u001b[43mverify_integrity\u001b[49m\u001b[38;5;241;43m=\u001b[39;49m\u001b[43mverify_integrity\u001b[49m\u001b[43m,\u001b[49m\n\u001b[0;32m    391\u001b[0m \u001b[43m    \u001b[49m\u001b[43mcopy\u001b[49m\u001b[38;5;241;43m=\u001b[39;49m\u001b[43mcopy\u001b[49m\u001b[43m,\u001b[49m\n\u001b[0;32m    392\u001b[0m \u001b[43m    \u001b[49m\u001b[43msort\u001b[49m\u001b[38;5;241;43m=\u001b[39;49m\u001b[43msort\u001b[49m\u001b[43m,\u001b[49m\n\u001b[0;32m    393\u001b[0m \u001b[43m\u001b[49m\u001b[43m)\u001b[49m\n\u001b[0;32m    395\u001b[0m \u001b[38;5;28;01mreturn\u001b[39;00m op\u001b[38;5;241m.\u001b[39mget_result()\n",
      "File \u001b[1;32mc:\\Users\\USER\\Desktop\\Sales-Trends-2019\\virtual\\Lib\\site-packages\\pandas\\core\\reshape\\concat.py:448\u001b[0m, in \u001b[0;36m_Concatenator.__init__\u001b[1;34m(self, objs, axis, join, keys, levels, names, ignore_index, verify_integrity, copy, sort)\u001b[0m\n\u001b[0;32m    445\u001b[0m objs, keys \u001b[38;5;241m=\u001b[39m \u001b[38;5;28mself\u001b[39m\u001b[38;5;241m.\u001b[39m_clean_keys_and_objs(objs, keys)\n\u001b[0;32m    447\u001b[0m \u001b[38;5;66;03m# figure out what our result ndim is going to be\u001b[39;00m\n\u001b[1;32m--> 448\u001b[0m ndims \u001b[38;5;241m=\u001b[39m \u001b[38;5;28;43mself\u001b[39;49m\u001b[38;5;241;43m.\u001b[39;49m\u001b[43m_get_ndims\u001b[49m\u001b[43m(\u001b[49m\u001b[43mobjs\u001b[49m\u001b[43m)\u001b[49m\n\u001b[0;32m    449\u001b[0m sample, objs \u001b[38;5;241m=\u001b[39m \u001b[38;5;28mself\u001b[39m\u001b[38;5;241m.\u001b[39m_get_sample_object(objs, ndims, keys, names, levels)\n\u001b[0;32m    451\u001b[0m \u001b[38;5;66;03m# Standardize axis parameter to int\u001b[39;00m\n",
      "File \u001b[1;32mc:\\Users\\USER\\Desktop\\Sales-Trends-2019\\virtual\\Lib\\site-packages\\pandas\\core\\reshape\\concat.py:489\u001b[0m, in \u001b[0;36m_Concatenator._get_ndims\u001b[1;34m(self, objs)\u001b[0m\n\u001b[0;32m    484\u001b[0m     \u001b[38;5;28;01mif\u001b[39;00m \u001b[38;5;129;01mnot\u001b[39;00m \u001b[38;5;28misinstance\u001b[39m(obj, (ABCSeries, ABCDataFrame)):\n\u001b[0;32m    485\u001b[0m         msg \u001b[38;5;241m=\u001b[39m (\n\u001b[0;32m    486\u001b[0m             \u001b[38;5;124mf\u001b[39m\u001b[38;5;124m\"\u001b[39m\u001b[38;5;124mcannot concatenate object of type \u001b[39m\u001b[38;5;124m'\u001b[39m\u001b[38;5;132;01m{\u001b[39;00m\u001b[38;5;28mtype\u001b[39m(obj)\u001b[38;5;132;01m}\u001b[39;00m\u001b[38;5;124m'\u001b[39m\u001b[38;5;124m; \u001b[39m\u001b[38;5;124m\"\u001b[39m\n\u001b[0;32m    487\u001b[0m             \u001b[38;5;124m\"\u001b[39m\u001b[38;5;124monly Series and DataFrame objs are valid\u001b[39m\u001b[38;5;124m\"\u001b[39m\n\u001b[0;32m    488\u001b[0m         )\n\u001b[1;32m--> 489\u001b[0m         \u001b[38;5;28;01mraise\u001b[39;00m \u001b[38;5;167;01mTypeError\u001b[39;00m(msg)\n\u001b[0;32m    491\u001b[0m     ndims\u001b[38;5;241m.\u001b[39madd(obj\u001b[38;5;241m.\u001b[39mndim)\n\u001b[0;32m    492\u001b[0m \u001b[38;5;28;01mreturn\u001b[39;00m ndims\n",
      "\u001b[1;31mTypeError\u001b[0m: cannot concatenate object of type '<class 'str'>'; only Series and DataFrame objs are valid"
     ]
    }
   ],
   "source": [
    "#Concatenating all the datasets in secondhalf\n",
    "secondhalf = pd.concat(secondhalf, ignore_index=True)"
   ]
  },
  {
   "cell_type": "code",
   "execution_count": null,
   "metadata": {},
   "outputs": [],
   "source": []
  },
  {
   "cell_type": "code",
   "execution_count": null,
   "metadata": {},
   "outputs": [],
   "source": []
  },
  {
   "cell_type": "markdown",
   "metadata": {},
   "source": [
    "### **Data Preparation** "
   ]
  },
  {
   "cell_type": "markdown",
   "metadata": {},
   "source": [
    "### **Modelling and Evaluation**"
   ]
  },
  {
   "cell_type": "markdown",
   "metadata": {},
   "source": [
    "### **Deployment**"
   ]
  }
 ],
 "metadata": {
  "kernelspec": {
   "display_name": "virtual",
   "language": "python",
   "name": "python3"
  },
  "language_info": {
   "codemirror_mode": {
    "name": "ipython",
    "version": 3
   },
   "file_extension": ".py",
   "mimetype": "text/x-python",
   "name": "python",
   "nbconvert_exporter": "python",
   "pygments_lexer": "ipython3",
   "version": "3.12.6"
  }
 },
 "nbformat": 4,
 "nbformat_minor": 2
}
