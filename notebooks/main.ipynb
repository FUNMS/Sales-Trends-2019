{
 "cells": [
  {
   "cell_type": "markdown",
   "metadata": {},
   "source": [
    "## **Maximizing Revenue with Data: 2019 Sales Trends and Product Performance**"
   ]
  },
  {
   "cell_type": "markdown",
   "metadata": {},
   "source": [
    "### **Business Understanding**"
   ]
  },
  {
   "cell_type": "markdown",
   "metadata": {},
   "source": [
    "#### **Problem Satement**\n",
    "\n",
    "A client assigned by getINNOtized, has collected transactional data for the year 2019 but hasn't been able to effectively use this data to improve sales or operational efficiency. They need insights into sales performance, seasonal trends, product popularity, and city-level sales to help drive more sales and streamline operations.\n",
    "\n",
    "#### **Goal and Objectives**\n",
    "\n",
    "The mail goal is to deliver a comprehensive business intelligence (BI) solution that helps the client:\n",
    "\n",
    "- Identify trends and seasonality in sales.\n",
    "- Analyze product performance to discover best- and worst-selling items.\n",
    "- Compare sales across different time periods (monthly, weekly) for actionable insights.\n",
    "- Analyze geographical sales performance to identify cities with higher demand.\n",
    "- Segment products based on price and analyze their contribution to total sales.\n",
    "\n",
    "\n",
    "#### **Stakeholders**\n",
    "Primary Stakeholder: Client management team looking for sales and operational insights.\n",
    "Secondary Stakeholders: Sales and marketing teams who can use the insights for future campaigns.\n",
    "Business Analysts: Those responsible for deriving and communicating actionable insights.\n",
    "Operations Team: Can leverage insights for improving efficiency in delivering products to high-demand areas."
   ]
  },
  {
   "cell_type": "markdown",
   "metadata": {},
   "source": [
    "### **Data Understanding**"
   ]
  },
  {
   "cell_type": "markdown",
   "metadata": {},
   "source": [
    "### **Data Preparation**"
   ]
  },
  {
   "cell_type": "markdown",
   "metadata": {},
   "source": [
    "### **Modelling and Evaluation**"
   ]
  },
  {
   "cell_type": "markdown",
   "metadata": {},
   "source": [
    "### **Deployment**"
   ]
  }
 ],
 "metadata": {
  "language_info": {
   "name": "python"
  }
 },
 "nbformat": 4,
 "nbformat_minor": 2
}
